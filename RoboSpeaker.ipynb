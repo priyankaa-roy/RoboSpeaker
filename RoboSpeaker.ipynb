{
 "cells": [
  {
   "cell_type": "code",
   "execution_count": 1,
   "id": "87b7a0fe",
   "metadata": {},
   "outputs": [],
   "source": [
    "import os"
   ]
  },
  {
   "cell_type": "code",
   "execution_count": 6,
   "id": "22d3425a",
   "metadata": {},
   "outputs": [
    {
     "name": "stdout",
     "output_type": "stream",
     "text": [
      "Welcome to RoboSpeaker  1.2 Created by Priyanka\n",
      "Enter what you want me to speak: Hello \n"
     ]
    },
    {
     "data": {
      "text/plain": [
       "1"
      ]
     },
     "execution_count": 6,
     "metadata": {},
     "output_type": "execute_result"
    }
   ],
   "source": [
    "# For Mac\n",
    "print(\"Welcome to RoboSpeaker  1.2 Created by Priyanka\")\n",
    "x = input(\"Enter what you want me to speak: \")\n",
    "command = f\"say {x}\"\n",
    "os.system(command)"
   ]
  },
  {
   "cell_type": "code",
   "execution_count": 9,
   "id": "3191717c",
   "metadata": {},
   "outputs": [
    {
     "name": "stdout",
     "output_type": "stream",
     "text": [
      "Welcome to RoboSpeaker  1.2 Created by Priyanka\n",
      "Enter what you want me to speak: hey\n",
      "Enter what you want me to speak: q\n"
     ]
    }
   ],
   "source": [
    "# For Mac\n",
    "print(\"Welcome to RoboSpeaker  1.2 Created by Priyanka\")\n",
    "while True:\n",
    "    x = input(\"Enter what you want me to speak: \")\n",
    "    if x == 'q':\n",
    "        os.system(\"say 'thanks for interacting'\")\n",
    "        break\n",
    "    command = f\"say {x}\"\n",
    "    os.system(command)"
   ]
  },
  {
   "cell_type": "code",
   "execution_count": 10,
   "id": "47bccee0",
   "metadata": {},
   "outputs": [],
   "source": [
    "# Start by importing the win32com package\n",
    "import win32com.client as wincom"
   ]
  },
  {
   "cell_type": "code",
   "execution_count": 11,
   "id": "190b604e",
   "metadata": {},
   "outputs": [],
   "source": [
    "speak = wincom.Dispatch(\"SAPI.SpVoice\")"
   ]
  },
  {
   "cell_type": "code",
   "execution_count": 12,
   "id": "1ec068dc",
   "metadata": {},
   "outputs": [
    {
     "data": {
      "text/plain": [
       "1"
      ]
     },
     "execution_count": 12,
     "metadata": {},
     "output_type": "execute_result"
    }
   ],
   "source": [
    "text = \"Python text-to-speech test. using win32com.client\"\n",
    "speak.Speak(text)"
   ]
  },
  {
   "cell_type": "code",
   "execution_count": 15,
   "id": "7b4cc233",
   "metadata": {},
   "outputs": [
    {
     "data": {
      "text/plain": [
       "1"
      ]
     },
     "execution_count": 15,
     "metadata": {},
     "output_type": "execute_result"
    }
   ],
   "source": [
    "import win32com.client as wincom\n",
    "\n",
    "# you can insert gaps in the narration by adding sleep calls\n",
    "import time\n",
    "\n",
    "speak = wincom.Dispatch(\"SAPI.SpVoice\")\n",
    "\n",
    "text = \"Python text-to-speech test. using win32com.client\"\n",
    "speak.Speak(text)\n",
    "\n",
    "# 3 second sleep\n",
    "time.sleep(3) \n",
    "\n",
    "text = \"This text is read after 3 seconds\"\n",
    "speak.Speak(text)"
   ]
  },
  {
   "cell_type": "code",
   "execution_count": 17,
   "id": "9f2e988c",
   "metadata": {},
   "outputs": [
    {
     "name": "stdout",
     "output_type": "stream",
     "text": [
      "Welcome to RoboSpeaker  1.2 Created by Priyanka\n",
      "Enter what you want me to speak: hi\n"
     ]
    },
    {
     "data": {
      "text/plain": [
       "1"
      ]
     },
     "execution_count": 17,
     "metadata": {},
     "output_type": "execute_result"
    }
   ],
   "source": [
    "print(\"Welcome to RoboSpeaker  1.2 Created by Priyanka\")\n",
    "x = input(\"Enter what you want me to speak: \")\n",
    "command = f\"{x}\"\n",
    "speak.Speak(command)"
   ]
  },
  {
   "cell_type": "code",
   "execution_count": 21,
   "id": "20eea822",
   "metadata": {},
   "outputs": [
    {
     "name": "stdout",
     "output_type": "stream",
     "text": [
      "Welcome to RoboSpeaker  1.2 Created by Priyanka\n",
      "Enter what you want me to speak: hi this is Priyanka\n",
      "Enter what you want me to speak: nice to meet you\n",
      "Enter what you want me to speak: what are you doing\n",
      "Enter what you want me to speak: I am speaking using the RoboSpeaker\n",
      "Enter what you want me to speak: q\n"
     ]
    }
   ],
   "source": [
    "print(\"Welcome to RoboSpeaker  1.2 Created by Priyanka\")\n",
    "while True:\n",
    "    x = input(\"Enter what you want me to speak: \")\n",
    "    if x == 'q':\n",
    "        speak.Speak('thanks for interacting')\n",
    "        break\n",
    "    command = f\"{x}\"\n",
    "    speak.Speak(command)"
   ]
  },
  {
   "cell_type": "code",
   "execution_count": null,
   "id": "f0273030",
   "metadata": {},
   "outputs": [],
   "source": []
  }
 ],
 "metadata": {
  "kernelspec": {
   "display_name": "Python 3 (ipykernel)",
   "language": "python",
   "name": "python3"
  },
  "language_info": {
   "codemirror_mode": {
    "name": "ipython",
    "version": 3
   },
   "file_extension": ".py",
   "mimetype": "text/x-python",
   "name": "python",
   "nbconvert_exporter": "python",
   "pygments_lexer": "ipython3",
   "version": "3.9.7"
  }
 },
 "nbformat": 4,
 "nbformat_minor": 5
}
